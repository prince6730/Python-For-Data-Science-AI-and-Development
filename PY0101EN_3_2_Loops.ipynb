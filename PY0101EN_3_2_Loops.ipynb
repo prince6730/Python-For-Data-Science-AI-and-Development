{
  "cells": [
    {
      "cell_type": "markdown",
      "metadata": {
        "id": "SVM9cw3b5eAg"
      },
      "source": [
        "<h1>Loops in Python</h1>\n"
      ]
    },
    {
      "cell_type": "markdown",
      "metadata": {
        "id": "yJgUYBv55eAh"
      },
      "source": [
        "<p><strong>Welcome!</strong> This notebook will teach you about the loops in the Python Programming Language. By the end of this lab, you'll know how to use the loop statements in Python, including for loop, and while loop.</p>\n"
      ]
    },
    {
      "cell_type": "markdown",
      "metadata": {
        "id": "Opf6zO7_5eAj"
      },
      "source": [
        "<h2 id=\"loop\">Loops</h2>\n"
      ]
    },
    {
      "cell_type": "markdown",
      "metadata": {
        "id": "Gdg9Q5VA5eAk"
      },
      "source": [
        "<h3 id=\"range\">Range</h3>\n"
      ]
    },
    {
      "cell_type": "markdown",
      "metadata": {
        "id": "mxLz29Fc5eAk"
      },
      "source": [
        "Sometimes, you might want to repeat a given operation many times. Repeated executions like this are performed by <b>loops</b>. We will look at two types of loops, <code>for</code> loops and <code>while</code> loops.\n",
        "\n",
        "Before we discuss loops lets discuss the <code>range</code> object. It is helpful to think of the range object as an ordered list. For now, let's look at the simplest case. If we would like to generate an object that contains elements ordered from 0 to 2 we simply use the following command:\n"
      ]
    },
    {
      "cell_type": "code",
      "execution_count": null,
      "metadata": {
        "colab": {
          "base_uri": "https://localhost:8080/"
        },
        "id": "F_8iZoNO5eAl",
        "outputId": "61ea02a3-9121-47db-a08b-059f1d1521ee"
      },
      "outputs": [
        {
          "output_type": "execute_result",
          "data": {
            "text/plain": [
              "range(0, 3)"
            ]
          },
          "metadata": {},
          "execution_count": 1
        }
      ],
      "source": [
        "# Use the range\n",
        "\n",
        "range(3)"
      ]
    },
    {
      "cell_type": "markdown",
      "metadata": {
        "id": "kyvxk-R-5eAn"
      },
      "source": [
        "***NOTE: While in Python 2.x it returned a list as seen in video lessons, in 3.x it returns a range object.***\n"
      ]
    },
    {
      "cell_type": "markdown",
      "metadata": {
        "id": "14aEXzNN5eAo"
      },
      "source": [
        "<h3 id=\"for\">What is <code>for</code> loop?</h3>\n"
      ]
    },
    {
      "cell_type": "markdown",
      "metadata": {
        "id": "RmCetm1Q5eAo"
      },
      "source": [
        "The <code>for</code> loop enables you to execute a code block multiple times. For example, you would use this if you would like to print out every element in a list.\\\n",
        "Let's try to use a <code>for</code> loop to print all the years presented in the list <code>dates</code>:\n"
      ]
    },
    {
      "cell_type": "markdown",
      "metadata": {
        "id": "v5cFyOLd5eAo"
      },
      "source": [
        "This can be done as follows:\n"
      ]
    },
    {
      "cell_type": "code",
      "execution_count": null,
      "metadata": {
        "colab": {
          "base_uri": "https://localhost:8080/"
        },
        "id": "fj9YH1kg5eAp",
        "outputId": "a9fd15e5-215c-4a73-a665-cf2de197df99"
      },
      "outputs": [
        {
          "output_type": "stream",
          "name": "stdout",
          "text": [
            "1982\n",
            "1980\n",
            "1973\n"
          ]
        }
      ],
      "source": [
        "# For loop example\n",
        "\n",
        "dates = [1982,1980,1973]\n",
        "N = len(dates)\n",
        "\n",
        "for i in range(N):\n",
        "    print(dates[i])     "
      ]
    },
    {
      "cell_type": "markdown",
      "metadata": {
        "id": "-cVRp5QV5eAp"
      },
      "source": [
        "The code in the indent is executed <code>N</code> times, each time the value of <code>i</code> is increased by 1 for every execution. The statement executed is to <code>print</code> out the value in the list at index <code>i</code> as shown here:\n"
      ]
    },
    {
      "cell_type": "markdown",
      "metadata": {
        "id": "O-vmxal_5eAq"
      },
      "source": [
        "In this example we can print out a sequence of numbers from 0 to 7:\n"
      ]
    },
    {
      "cell_type": "code",
      "execution_count": null,
      "metadata": {
        "colab": {
          "base_uri": "https://localhost:8080/"
        },
        "id": "ozIbvm-45eAq",
        "outputId": "319106ea-9b83-4de6-f016-6ce2f0bc928b"
      },
      "outputs": [
        {
          "output_type": "stream",
          "name": "stdout",
          "text": [
            "0\n",
            "1\n",
            "2\n",
            "3\n",
            "4\n",
            "5\n",
            "6\n",
            "7\n"
          ]
        }
      ],
      "source": [
        "# Example of for loop\n",
        "\n",
        "for i in range(0, 8):\n",
        "    print(i)"
      ]
    },
    {
      "cell_type": "markdown",
      "metadata": {
        "id": "0RcwrOvO5eAq"
      },
      "source": [
        "In Python we can directly access the elements in the list as follows:\n"
      ]
    },
    {
      "cell_type": "code",
      "execution_count": null,
      "metadata": {
        "colab": {
          "base_uri": "https://localhost:8080/"
        },
        "id": "TopyHVDW5eAq",
        "outputId": "b62b74fa-4820-4aa3-fd3c-327f965a3769"
      },
      "outputs": [
        {
          "output_type": "stream",
          "name": "stdout",
          "text": [
            "1982\n",
            "1980\n",
            "1973\n"
          ]
        }
      ],
      "source": [
        "# Exmaple of for loop, loop through list\n",
        "\n",
        "for year in dates:  \n",
        "    print(year)   "
      ]
    },
    {
      "cell_type": "markdown",
      "metadata": {
        "id": "bS1McMbd5eAr"
      },
      "source": [
        "For each iteration, the value of the variable <code>year</code> behaves like the value of <code>dates\\[i]</code> in the  first example:\n"
      ]
    },
    {
      "cell_type": "markdown",
      "metadata": {
        "id": "vdoVrWbr5eAr"
      },
      "source": [
        "We can change the elements in a list:\n"
      ]
    },
    {
      "cell_type": "code",
      "execution_count": null,
      "metadata": {
        "colab": {
          "base_uri": "https://localhost:8080/"
        },
        "id": "zPBVEEmm5eAr",
        "outputId": "f7860d71-2da2-489a-d88f-9a246cd3abab"
      },
      "outputs": [
        {
          "output_type": "stream",
          "name": "stdout",
          "text": [
            "Before square  0 is red\n",
            "After square  0 is white\n",
            "Before square  1 is yellow\n",
            "After square  1 is white\n",
            "Before square  2 is green\n",
            "After square  2 is white\n",
            "Before square  3 is purple\n",
            "After square  3 is white\n",
            "Before square  4 is blue\n",
            "After square  4 is white\n"
          ]
        }
      ],
      "source": [
        "# Use for loop to change the elements in list\n",
        "\n",
        "squares = ['red', 'yellow', 'green', 'purple', 'blue']\n",
        "\n",
        "for i in range(0, 5):\n",
        "    print(\"Before square \", i, 'is',  squares[i])\n",
        "    squares[i] = 'white'\n",
        "    print(\"After square \", i, 'is',  squares[i])"
      ]
    },
    {
      "cell_type": "markdown",
      "metadata": {
        "id": "NomGlwyo5eAs"
      },
      "source": [
        "We can access the index and the elements of a list as follows:\n"
      ]
    },
    {
      "cell_type": "code",
      "execution_count": null,
      "metadata": {
        "colab": {
          "base_uri": "https://localhost:8080/"
        },
        "id": "X5D7YlPY5eAs",
        "outputId": "5eb632d6-f1a3-458c-d171-28f5736ebbd3"
      },
      "outputs": [
        {
          "output_type": "stream",
          "name": "stdout",
          "text": [
            "0 red\n",
            "1 yellow\n",
            "2 green\n",
            "3 purple\n",
            "4 blue\n"
          ]
        }
      ],
      "source": [
        "# Loop through the list and iterate on both index and element value\n",
        "\n",
        "squares=['red', 'yellow', 'green', 'purple', 'blue']\n",
        "\n",
        "for i, square in enumerate(squares):\n",
        "    print(i, square)"
      ]
    },
    {
      "cell_type": "markdown",
      "metadata": {
        "id": "OKjsxh1f5eAs"
      },
      "source": [
        "<h3 id=\"while\">What is <code>while</code> loop?</h3>\n"
      ]
    },
    {
      "cell_type": "markdown",
      "metadata": {
        "id": "TJmBAVxs5eAs"
      },
      "source": [
        "As you can see, the <code>for</code> loop is used for a controlled flow of repetition. However, what if we don't know when we want to stop the loop? What if we want to keep executing a code block until a certain condition is met? The <code>while</code> loop exists as a tool for repeated execution based on a condition. The code block will keep being executed until the given logical condition returns a **False** boolean value.\n"
      ]
    },
    {
      "cell_type": "markdown",
      "metadata": {
        "id": "HvBgGEfo5eAs"
      },
      "source": [
        "Let’s say we would like to iterate through list <code>dates</code> and stop at the year 1973, then print out the number of iterations. This can be done with the following block of code:\n"
      ]
    },
    {
      "cell_type": "code",
      "execution_count": null,
      "metadata": {
        "colab": {
          "base_uri": "https://localhost:8080/"
        },
        "id": "3G959ydd5eAt",
        "outputId": "f8d3e77e-99b4-4dc2-c155-03a674f03308"
      },
      "outputs": [
        {
          "output_type": "stream",
          "name": "stdout",
          "text": [
            "1982\n",
            "1980\n",
            "It took  2 repetitions to get out of loop.\n"
          ]
        }
      ],
      "source": [
        "# While Loop Example\n",
        "\n",
        "dates = [1982, 1980, 1973, 2000]\n",
        "\n",
        "i = 0\n",
        "year = dates[0]\n",
        "\n",
        "while(year != 1973):    \n",
        "    print(year)\n",
        "    i = i + 1\n",
        "    year = dates[i]\n",
        "    \n",
        "\n",
        "print(\"It took \", i ,\"repetitions to get out of loop.\")"
      ]
    },
    {
      "cell_type": "markdown",
      "metadata": {
        "id": "LKSzUxs85eAt"
      },
      "source": [
        "A while loop iterates merely until the condition in the argument is not  met, as shown in the following figure:\n"
      ]
    },
    {
      "cell_type": "markdown",
      "metadata": {
        "id": "mW0W1_1n5eAt"
      },
      "source": [
        "<hr>\n"
      ]
    },
    {
      "cell_type": "markdown",
      "metadata": {
        "id": "ZEIVJKGh5eAu"
      },
      "source": [
        "<h2 id=\"quiz\">Quiz on Loops</h2>\n"
      ]
    },
    {
      "cell_type": "markdown",
      "metadata": {
        "id": "jgJ4v0Jy5eAu"
      },
      "source": [
        "Write a <code>for</code> loop the prints out all the element between <b>-5</b> and <b>5</b> using the range function.\n"
      ]
    },
    {
      "cell_type": "code",
      "execution_count": null,
      "metadata": {
        "id": "45TrITL25eAu",
        "colab": {
          "base_uri": "https://localhost:8080/"
        },
        "outputId": "eb738f7a-7425-4a73-878c-a51c752eaf80"
      },
      "outputs": [
        {
          "output_type": "stream",
          "name": "stdout",
          "text": [
            "-4\n",
            "-3\n",
            "-2\n",
            "-1\n",
            "0\n",
            "1\n",
            "2\n",
            "3\n",
            "4\n"
          ]
        }
      ],
      "source": [
        "# Write your code below and press Shift+Enter to execute\n",
        "for i in range(-4,5):\n",
        "  print(i)"
      ]
    },
    {
      "cell_type": "markdown",
      "metadata": {
        "id": "vJ2ZGzBM5eAw"
      },
      "source": [
        "Print the elements of the following list: <code>Genres=\\[ 'rock', 'R\\&B', 'Soundtrack', 'R\\&B', 'soul', 'pop']</code>\n",
        "Make sure you follow Python conventions.\n"
      ]
    },
    {
      "cell_type": "code",
      "execution_count": null,
      "metadata": {
        "id": "4PcW7KqK5eAw",
        "colab": {
          "base_uri": "https://localhost:8080/"
        },
        "outputId": "8e47e835-812f-4a17-9f5c-deb56157cf88"
      },
      "outputs": [
        {
          "output_type": "stream",
          "name": "stdout",
          "text": [
            "rock\n",
            "R&B\n",
            "Soundtrack\n",
            "R&B\n",
            "soul\n",
            "pop\n"
          ]
        }
      ],
      "source": [
        "# Write your code below and press Shift+Enter to execute\n",
        "Genres=[ 'rock', 'R&B', 'Soundtrack', 'R&B', 'soul', 'pop']\n",
        "for genre in Genres:\n",
        "  print(genre)"
      ]
    },
    {
      "cell_type": "markdown",
      "metadata": {
        "id": "Ik6ge5Ap5eAw"
      },
      "source": [
        "<hr>\n"
      ]
    },
    {
      "cell_type": "markdown",
      "metadata": {
        "id": "TCj4238i5eAw"
      },
      "source": [
        "Write a for loop that prints out the following list: <code>squares=\\['red', 'yellow', 'green', 'purple', 'blue']</code>\n"
      ]
    },
    {
      "cell_type": "code",
      "execution_count": null,
      "metadata": {
        "id": "DWtXMoep5eAw",
        "colab": {
          "base_uri": "https://localhost:8080/"
        },
        "outputId": "53ab1174-1e5a-4fbe-a5af-01f378a3e725"
      },
      "outputs": [
        {
          "output_type": "stream",
          "name": "stdout",
          "text": [
            "red\n",
            "yellow\n",
            "green\n",
            "purple\n",
            "blue\n"
          ]
        }
      ],
      "source": [
        "# Write your code below and press Shift+Enter to execute\n",
        "squares=['red', 'yellow', 'green', 'purple', 'blue']\n",
        "for square in squares:\n",
        "  print(square)"
      ]
    },
    {
      "cell_type": "markdown",
      "metadata": {
        "id": "iNxPNiK-5eAx"
      },
      "source": [
        "<hr>\n"
      ]
    },
    {
      "cell_type": "markdown",
      "metadata": {
        "id": "PbqRCPZk5eAx"
      },
      "source": [
        "Write a while loop to display the values of the Rating of an album playlist stored in the list <code>PlayListRatings</code>. If the score is less than 6, exit the loop. The list <code>PlayListRatings</code> is given by: <code>PlayListRatings = \\[10, 9.5, 10, 8, 7.5, 5, 10, 10]</code>\n"
      ]
    },
    {
      "cell_type": "code",
      "execution_count": 17,
      "metadata": {
        "id": "7mZkvk125eAx",
        "colab": {
          "base_uri": "https://localhost:8080/"
        },
        "outputId": "3da83b88-07d8-4982-b5b9-1fc59d15dc05"
      },
      "outputs": [
        {
          "output_type": "stream",
          "name": "stdout",
          "text": [
            "10\n",
            "9.5\n",
            "10\n",
            "8\n",
            "7.5\n"
          ]
        }
      ],
      "source": [
        "# Write your code below and press Shift+Enter to execute\n",
        "PlayListRatings = [10, 9.5, 10, 8, 7.5, 5, 10, 10]\n",
        "i = 0\n",
        "rating = PlayListRatings[0]\n",
        "while (i < len(PlayListRatings) and rating >= 6):\n",
        "  print(rating)\n",
        "  i += 1\n",
        "  rating = PlayListRatings[i]"
      ]
    },
    {
      "cell_type": "markdown",
      "metadata": {
        "id": "lDoixddS5eAy"
      },
      "source": [
        "Write a while loop to copy the strings <code>'orange'</code> of the list <code>squares</code> to the list <code>new_squares</code>. Stop and exit the loop if the value on the list is not <code>'orange'</code>:\n"
      ]
    },
    {
      "cell_type": "code",
      "execution_count": 16,
      "metadata": {
        "id": "yxl8Z6nK5eAy",
        "colab": {
          "base_uri": "https://localhost:8080/"
        },
        "outputId": "aee8f9c1-4052-4629-ea83-bfd7cf646036"
      },
      "outputs": [
        {
          "output_type": "stream",
          "name": "stdout",
          "text": [
            "['orange', 'orange']\n"
          ]
        }
      ],
      "source": [
        "# Write your code below and press Shift+Enter to execute\n",
        "\n",
        "squares = ['orange', 'orange', 'purple', 'blue ', 'orange']\n",
        "new_squares = []\n",
        "i = 0\n",
        "while(i < len(squares) and squares[i] == 'orange'):\n",
        "    new_squares.append(squares[i])\n",
        "    i = i + 1\n",
        "print (new_squares)"
      ]
    }
  ],
  "metadata": {
    "interpreter": {
      "hash": "aee8b7b246df8f9039afb4144a1f6fd8d2ca17a180786b69acc140d282b71a49"
    },
    "kernelspec": {
      "display_name": "Python 3.9.4 64-bit",
      "language": "python",
      "name": "python3"
    },
    "language_info": {
      "codemirror_mode": {
        "name": "ipython",
        "version": 3
      },
      "file_extension": ".py",
      "mimetype": "text/x-python",
      "name": "python",
      "nbconvert_exporter": "python",
      "pygments_lexer": "ipython3",
      "version": "3.9.4"
    },
    "colab": {
      "provenance": []
    }
  },
  "nbformat": 4,
  "nbformat_minor": 0
}